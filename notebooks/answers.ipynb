{
 "cells": [
  {
   "cell_type": "code",
   "execution_count": 1,
   "id": "c97e6ac7",
   "metadata": {},
   "outputs": [],
   "source": [
    "import utils\n",
    "import pandas as pd\n",
    "from pprint import pprint\n",
    "import json\n",
    "import numpy as np\n",
    "import seaborn as sns\n",
    "from statsmodels.stats.proportion import proportion_confint\n",
    "\n",
    "sns.set()"
   ]
  },
  {
   "cell_type": "code",
   "execution_count": null,
   "id": "44b922d2",
   "metadata": {},
   "outputs": [
    {
     "name": "stderr",
     "output_type": "stream",
     "text": [
      "From github.com:willcrichton/rust-book\n",
      "   6da87030..95f99320  ownership-chapter -> origin/ownership-chapter\n"
     ]
    },
    {
     "name": "stdout",
     "output_type": "stream",
     "text": [
      "Already up to date.\n",
      "Loading answers...\n",
      "Loading quizzes...\n",
      "Postprocessing data...\n"
     ]
    }
   ],
   "source": [
    "answers, answers_flat, quizzes = utils.load_latest_answers()"
   ]
  },
  {
   "cell_type": "code",
   "execution_count": null,
   "id": "a1aa6f06",
   "metadata": {},
   "outputs": [],
   "source": [
    "len(answers.sessionId.unique())"
   ]
  },
  {
   "cell_type": "code",
   "execution_count": null,
   "id": "2e0bddee",
   "metadata": {},
   "outputs": [],
   "source": [
    "answers"
   ]
  },
  {
   "cell_type": "code",
   "execution_count": null,
   "id": "1b9021b8",
   "metadata": {},
   "outputs": [],
   "source": [
    "def hash_answer(a):\n",
    "    return hash(json.dumps(a, sort_keys=True))\n",
    "answers_flat['answerHash'] = answers_flat.answer.map(hash_answer)"
   ]
  },
  {
   "cell_type": "code",
   "execution_count": null,
   "id": "807045bc",
   "metadata": {},
   "outputs": [],
   "source": [
    "from matplotlib.dates import DateFormatter\n",
    "\n",
    "ax = answers.set_index('timestamp').resample('D').size().plot.line()\n",
    "date_form = DateFormatter(\"%m-%d\")\n",
    "ax.xaxis.set_major_formatter(date_form)"
   ]
  },
  {
   "cell_type": "code",
   "execution_count": null,
   "id": "dd1d982f",
   "metadata": {},
   "outputs": [],
   "source": [
    "daily_users = answers.set_index('timestamp').resample('D').apply(lambda df: len(df.sessionId.unique()))\n",
    "# daily_users.loc['2022-09-01':].rolling(7).mean().plot.line(style='.-')\n",
    "daily_users.plot.line(style='.-')"
   ]
  },
  {
   "cell_type": "code",
   "execution_count": null,
   "id": "f8408d19",
   "metadata": {},
   "outputs": [],
   "source": [
    "QS = [\n",
    "    \"5080616f-6f4c-43f7-aa3a-8b23f2798937\",\n",
    "    \"e8da8773-8df2-4279-8c27-b7e9eda1dddd\",\n",
    "    \"1e4f082c-ffa4-4d33-8726-2dbcd72e1aa2\",\n",
    "    \"7fbda6e4-dca7-458e-ab52-fab03181f90b\",\n",
    "    \"f1ab2171-96f0-4380-b16d-9055a9a00415\",\n",
    "    \"6028c7f5-b373-475f-ba43-553773c7b3b7\",\n",
    "    \"6a94bc90-6cc5-4a47-838c-596d3747b7e4\",\n",
    "    \"40ae0cfe-3567-4d05-b0d9-54d612a2d654\",\n",
    "    \"d03748df-8dcf-4ec8-bd30-341927544665\",\n",
    "    \"694bb2d0-f2e6-4b0b-a3e7-2d9f9e8b3d09\",\n",
    "    \"a2a1546b-27bf-47d2-a1bc-86d777573f40\"\n",
    "]"
   ]
  },
  {
   "cell_type": "code",
   "execution_count": null,
   "id": "f8aa9678",
   "metadata": {
    "scrolled": false
   },
   "outputs": [],
   "source": [
    "def print_q(qid):\n",
    "    df = answers_flat[(answers_flat.id == qid) & (answers_flat.explanation)]\n",
    "    if len(df) == 0: return\n",
    "    row = df.iloc[0]\n",
    "    print(row.quizName, row.question+1)\n",
    "    \n",
    "    def print_explanations(correct):\n",
    "        df2 = df[df.correct_v2 == correct]\n",
    "        hashes = df2.groupby('answerHash').size().sort_values(ascending=False).index.tolist()\n",
    "        for h in hashes:\n",
    "            rows = df2[df2.answerHash == h]\n",
    "            answer = rows.iloc[0].answer\n",
    "            print(f\"ANSWSER (N={len(rows)}):\", answer)\n",
    "            print(\"EXPLANATIONS:\")\n",
    "            for _, row in rows.iterrows():\n",
    "                print(row.explanation)\n",
    "                print()\n",
    "            \n",
    "            \n",
    "#         for _, row in :\n",
    "#             print(row.answer)\n",
    "#             print(row.explanation)\n",
    "#             print()\n",
    "            \n",
    "#     print('CORRECT:')\n",
    "#     print_explanations(True)\n",
    "    print('INCORRECT:')\n",
    "    print_explanations(False)\n",
    "    print(\"=\"*30)\n",
    "    \n",
    "\n",
    "print_q(\"6a94bc90-6cc5-4a47-838c-596d3747b7e4\")"
   ]
  },
  {
   "cell_type": "markdown",
   "id": "e74093ea",
   "metadata": {},
   "source": [
    "# Quiz-level performance"
   ]
  },
  {
   "cell_type": "code",
   "execution_count": null,
   "id": "a022c5c6",
   "metadata": {},
   "outputs": [],
   "source": [
    "def ci(ser):\n",
    "    mu = ser.mean()\n",
    "    sigma = ser.sem()\n",
    "    return f'{mu:.02f} ± {2*sigma:.02f} (N = {len(ser)})'\n",
    "answers.groupby(['quizName', 'version']).frac_correct.apply(ci)"
   ]
  },
  {
   "cell_type": "code",
   "execution_count": null,
   "id": "dbc4125c",
   "metadata": {},
   "outputs": [],
   "source": [
    "answers.groupby('quizName').frac_correct.describe()[['count', 'mean', '50%']].sort_values('quizName')"
   ]
  },
  {
   "cell_type": "markdown",
   "id": "3b77bce8",
   "metadata": {},
   "source": [
    "## Intervention analysis"
   ]
  },
  {
   "cell_type": "code",
   "execution_count": null,
   "id": "c7559bf3",
   "metadata": {},
   "outputs": [],
   "source": [
    "import subprocess as sp\n",
    "\n",
    "TAGS = ['ownership-incompleteness', 'borrow-promotion', 'intervention-01', \"moved-match-questions\"]\n",
    "\n",
    "commit_tags = {\n",
    "    tag: utils.date_for_commit(sp.check_output(f'git rev-list -n 1 {tag}', shell=True, cwd=utils.QUIZ_DIR).decode('utf-8').strip())\n",
    "    for tag in TAGS\n",
    "}"
   ]
  },
  {
   "cell_type": "code",
   "execution_count": null,
   "id": "4da62933",
   "metadata": {},
   "outputs": [],
   "source": [
    "interventions = [\n",
    "    (('ch04-01-ownership-sec1-move', 3), ('ch04-01-ownership-sec3-functions', 2), 'ownership-incompleteness'),\n",
    "    (('ch04-02-references-sec2-mut', 0), ('ch04-02-references-sec2-mut', 0), 'borrow-promotion')\n",
    "]\n",
    "\n",
    "for (before, after, tag) in interventions:\n",
    "    def f(q, prior):\n",
    "        df = answers_flat\n",
    "        (quiz, question) = q\n",
    "        df = df[(df.quizName == quiz) & (df.question == question)]\n",
    "        df = df[df.timestamp.dt.date < commit_tags[tag].date()] if prior else df[df.timestamp.dt.date >= commit_tags[tag].date()]\n",
    "        low, upp = proportion_confint(df.correct_v2.sum(), len(df))\n",
    "        print(f'prior={prior}, N={len(df)}, {df.correct_v2.mean()}, correct=[{low:.02}-{upp:.02}]')\n",
    "        \n",
    "    print(tag)\n",
    "    f(before, True)\n",
    "    f(after, False)\n"
   ]
  },
  {
   "cell_type": "code",
   "execution_count": null,
   "id": "bb070ea8",
   "metadata": {},
   "outputs": [],
   "source": [
    "def cohens_d(x1, x2):\n",
    "    n1, n2 = len(x1), len(x2)\n",
    "    sd_pooled = np.sqrt((n1-1) * np.std(x1)**2 + (n2-1) * np.std(x2)**2) / (n1+n2-2)\n",
    "    return (x2.mean() - x1.mean()) / sd_pooled"
   ]
  },
  {
   "cell_type": "code",
   "execution_count": null,
   "id": "659e7bfb",
   "metadata": {},
   "outputs": [],
   "source": [
    "from scipy.stats import ttest_ind"
   ]
  },
  {
   "cell_type": "code",
   "execution_count": null,
   "id": "432ea69d",
   "metadata": {
    "scrolled": false
   },
   "outputs": [],
   "source": [
    "interventions = [\n",
    "    (\"5080616f-6f4c-43f7-aa3a-8b23f2798937\", \"intervention-01\"),\n",
    "    (\"7fbda6e4-dca7-458e-ab52-fab03181f90b\", \"intervention-01\"),\n",
    "    (\"e8da8773-8df2-4279-8c27-b7e9eda1dddd\", \"intervention-01\"),\n",
    "    (\"f1ab2171-96f0-4380-b16d-9055a9a00415\", \"intervention-01\"),\n",
    "    (\"40ae0cfe-3567-4d05-b0d9-54d612a2d654\", \"intervention-01\"),\n",
    "    (\"694bb2d0-f2e6-4b0b-a3e7-2d9f9e8b3d09\", \"intervention-01\"),\n",
    "    (\"d03748df-8dcf-4ec8-bd30-341927544665\", \"intervention-01\"),\n",
    "    \n",
    "    (\"1e4f082c-ffa4-4d33-8726-2dbcd72e1aa2\", \"moved-match-questions\"),\n",
    "]\n",
    "\n",
    "effects = []\n",
    "for (qid, tag) in interventions:\n",
    "    def f(after):\n",
    "        df = answers_flat\n",
    "        df = df[df.id == qid]\n",
    "        df = df[df.timestamp.dt.date >= commit_tags[tag].date()] if after else df[df.timestamp.dt.date < commit_tags[tag].date()]\n",
    "        low, upp = proportion_confint(df.correct_v2.sum(), len(df))\n",
    "        print(f'after={after}, N={len(df)}, {df.correct_v2.mean():.02}, correct=[{low:.02}-{upp:.02}]')\n",
    "        return df.correct_v2\n",
    "        \n",
    "    row = answers_flat[answers_flat.id == qid].iloc[0]\n",
    "    print(row.quizName, row.question+1, tag)\n",
    "    before = f(False)\n",
    "    after = f(True)\n",
    "    \n",
    "    effect = after.mean() - before.mean()\n",
    "    p = ttest_ind(before, after).pvalue\n",
    "    print(f'effect={effect:.03}, p={p:.03}')\n",
    "    if p < 0.05: effects.append(effect)\n",
    "        \n",
    "    print()\n",
    "\n",
    "avg_effect = np.mean(effects)\n",
    "print(f'Nsig={len(effects)}/{len(interventions)}, avg_effect={avg_effect}')"
   ]
  },
  {
   "cell_type": "code",
   "execution_count": null,
   "id": "1b7b9705",
   "metadata": {},
   "outputs": [],
   "source": [
    "import seaborn as sns\n",
    "import pandas as pd\n",
    "import matplotlib.pyplot as plt\n",
    "\n",
    "sns.set()\n",
    "plt.figure(figsize=(4, 4))\n",
    "ax = sns.barplot(data=pd.DataFrame([\n",
    "    {\"x\": \"before\", \"y\": 0.29, \"sd\": 0.05},\n",
    "    {\"x\": \"before\", \"y\": 0.29, \"sd\": 0.05},\n",
    "    {\"x\": \"after\", \"y\": 0.71, \"sd\": 0.04},\n",
    "    {\"x\": \"after\", \"y\": 0.71, \"sd\": 0.04}\n",
    "]), x=\"x\", y=\"y\", errorbar=lambda df: [0.24, 0.35] if df.iloc[0] == 0.29 else [0.67, 0.75], width=0.5)\n",
    "ax.set_ylim([0, 1])\n",
    "ax.set_xlabel('Before or after intervention?')\n",
    "ax.set_ylabel('Fraction of responses that are correct')\n",
    "plt.savefig('intervention.pdf', bbox_inches='tight')"
   ]
  },
  {
   "cell_type": "markdown",
   "id": "946d89a2",
   "metadata": {},
   "source": [
    "# Question-level performance"
   ]
  },
  {
   "cell_type": "code",
   "execution_count": null,
   "id": "5acf0120",
   "metadata": {},
   "outputs": [],
   "source": [
    "\n",
    "for quiz_name, versions in sorted(quizzes.quizzes.items(), key=lambda t: t[0]):\n",
    "    schema = max(versions['schemas'].values(), key=lambda d: d['version'])['schema']\n",
    "    quiz_answers = answers[answers.quizName == quiz_name]\n",
    "    N = len(quiz_answers)\n",
    "    if N < 2: continue\n",
    "    \n",
    "    meta = [\n",
    "        {\n",
    "            'n': 0,\n",
    "            'bad_answers': []\n",
    "        } \n",
    "        for _ in range(len(schema['questions']))\n",
    "    ]\n",
    "    for user_answers in quiz_answers.answers:\n",
    "        for i, answer in enumerate(user_answers):\n",
    "            m = meta[i]\n",
    "            if answer['correct']:\n",
    "                m['n'] += 1\n",
    "            else:\n",
    "                m['bad_answers'].append(answer['answer'])\n",
    "    \n",
    "    \n",
    "    print(f'{\"=\"*10} QUIZ: {quiz_name} {\"=\"*10}')\n",
    "    for i, q in enumerate(schema['questions']):\n",
    "        m = meta[i]\n",
    "        lower, upper = proportion_confint(m['n'], N)\n",
    "        print(f\"QUESTION {i+1}\")\n",
    "        print(f'%correct: {m[\"n\"]/N:.02f} ([{lower:.02f} - {upper:.02f}], N = {N})')\n",
    "        pprint(q['prompt'])\n",
    "        print(m['bad_answers'])\n",
    "        print()\n",
    "    \n",
    "    print('\\n\\n')"
   ]
  },
  {
   "cell_type": "markdown",
   "id": "a55923ea",
   "metadata": {},
   "source": [
    "# User-level performance"
   ]
  },
  {
   "cell_type": "code",
   "execution_count": null,
   "id": "cb2f076f",
   "metadata": {},
   "outputs": [],
   "source": [
    "answers.groupby('sessionId').frac_correct.describe()[['count', 'mean', '50%']].sort_values('count')"
   ]
  }
 ],
 "metadata": {
  "kernelspec": {
   "display_name": "Python 3 (ipykernel)",
   "language": "python",
   "name": "python3"
  },
  "language_info": {
   "codemirror_mode": {
    "name": "ipython",
    "version": 3
   },
   "file_extension": ".py",
   "mimetype": "text/x-python",
   "name": "python",
   "nbconvert_exporter": "python",
   "pygments_lexer": "ipython3",
   "version": "3.10.6"
  }
 },
 "nbformat": 4,
 "nbformat_minor": 5
}
