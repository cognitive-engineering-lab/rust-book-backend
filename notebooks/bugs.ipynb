{
 "cells": [
  {
   "cell_type": "code",
   "execution_count": 1,
   "id": "5cc92a64",
   "metadata": {},
   "outputs": [],
   "source": [
    "import utils\n",
    "import pandas as pd"
   ]
  },
  {
   "cell_type": "code",
   "execution_count": null,
   "id": "280b9261",
   "metadata": {
    "scrolled": false
   },
   "outputs": [],
   "source": [
    "# errs = utils.load_log('runtime_error')\n",
    "# errs['timestamp'] = pd.to_datetime(errs['timestamp'], unit='ms')\n",
    "# for _, err in errs[errs.timestamp > '2022-12-10'].iterrows():\n",
    "#     print('\\n'.join(err.error.split('\\n')[0:2]))\n",
    "#     print()"
   ]
  },
  {
   "cell_type": "code",
   "execution_count": null,
   "id": "95e8553f",
   "metadata": {},
   "outputs": [],
   "source": [
    "bugs = utils.load_log('bug')\n",
    "bugs['timestamp'] = pd.to_datetime(bugs['timestamp'], unit='ms')"
   ]
  },
  {
   "cell_type": "code",
   "execution_count": null,
   "id": "52815d16",
   "metadata": {
    "scrolled": false
   },
   "outputs": [],
   "source": [
    "for _, bug in bugs[bugs.timestamp > '2023-1-19'].iterrows():\n",
    "    if bug.quizName == 'example-quiz' or bug.quizName == 'ch01-03-hello-cargo': continue\n",
    "\n",
    "    print(f'==== QUIZ: {bug.quizName} / QUESTION {bug.question} / {bug.timestamp}')\n",
    "    print(bug.feedback)\n",
    "    print()"
   ]
  }
 ],
 "metadata": {
  "kernelspec": {
   "display_name": "Python 3 (ipykernel)",
   "language": "python",
   "name": "python3"
  },
  "language_info": {
   "codemirror_mode": {
    "name": "ipython",
    "version": 3
   },
   "file_extension": ".py",
   "mimetype": "text/x-python",
   "name": "python",
   "nbconvert_exporter": "python",
   "pygments_lexer": "ipython3",
   "version": "3.10.6"
  }
 },
 "nbformat": 4,
 "nbformat_minor": 5
}
